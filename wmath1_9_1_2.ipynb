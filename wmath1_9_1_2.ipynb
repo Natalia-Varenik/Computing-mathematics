{
 "cells": [
  {
   "cell_type": "code",
   "execution_count": 1,
   "metadata": {},
   "outputs": [],
   "source": [
    "import numpy as np\n",
    "import math as mt\n",
    "import pandas as pd"
   ]
  },
  {
   "cell_type": "markdown",
   "metadata": {},
   "source": [
    "### Метод подсчета exp суммированием ряда Тейлора"
   ]
  },
  {
   "cell_type": "code",
   "execution_count": 5,
   "metadata": {},
   "outputs": [],
   "source": [
    "# EXP\n",
    "def SUM(x, flt):\n",
    "    s = flt(1.0) \n",
    "    sprev = flt(0.0) \n",
    "    temp = flt(1.0)\n",
    "    i = 0\n",
    "    while sprev != s:\n",
    "        sprev = flt(s)\n",
    "        i += 1\n",
    "        temp *= flt(flt(x)/i)\n",
    "        s += flt(temp)\n",
    "    return flt(s)       "
   ]
  },
  {
   "cell_type": "code",
   "execution_count": 7,
   "metadata": {},
   "outputs": [
    {
     "data": {
      "text/html": [
       "<div>\n",
       "<style scoped>\n",
       "    .dataframe tbody tr th:only-of-type {\n",
       "        vertical-align: middle;\n",
       "    }\n",
       "\n",
       "    .dataframe tbody tr th {\n",
       "        vertical-align: top;\n",
       "    }\n",
       "\n",
       "    .dataframe thead th {\n",
       "        text-align: right;\n",
       "    }\n",
       "</style>\n",
       "<table border=\"1\" class=\"dataframe\">\n",
       "  <thead>\n",
       "    <tr style=\"text-align: right;\">\n",
       "      <th></th>\n",
       "      <th>x</th>\n",
       "      <th>SUM_32b</th>\n",
       "      <th>SUM_64b</th>\n",
       "      <th>EXP</th>\n",
       "      <th>DELTA_32</th>\n",
       "      <th>DELTA_64</th>\n",
       "    </tr>\n",
       "  </thead>\n",
       "  <tbody>\n",
       "    <tr>\n",
       "      <th>0</th>\n",
       "      <td>1</td>\n",
       "      <td>2.718282e+00</td>\n",
       "      <td>2.718282e+00</td>\n",
       "      <td>2.718282e+00</td>\n",
       "      <td>1.558702e-07</td>\n",
       "      <td>4.440892e-16</td>\n",
       "    </tr>\n",
       "    <tr>\n",
       "      <th>1</th>\n",
       "      <td>5</td>\n",
       "      <td>1.484132e+02</td>\n",
       "      <td>1.484132e+02</td>\n",
       "      <td>1.484132e+02</td>\n",
       "      <td>3.128869e-06</td>\n",
       "      <td>0.000000e+00</td>\n",
       "    </tr>\n",
       "    <tr>\n",
       "      <th>2</th>\n",
       "      <td>10</td>\n",
       "      <td>2.202646e+04</td>\n",
       "      <td>2.202647e+04</td>\n",
       "      <td>2.202647e+04</td>\n",
       "      <td>9.510567e-04</td>\n",
       "      <td>3.637979e-12</td>\n",
       "    </tr>\n",
       "    <tr>\n",
       "      <th>3</th>\n",
       "      <td>15</td>\n",
       "      <td>3.269017e+06</td>\n",
       "      <td>3.269017e+06</td>\n",
       "      <td>3.269017e+06</td>\n",
       "      <td>3.724721e-01</td>\n",
       "      <td>0.000000e+00</td>\n",
       "    </tr>\n",
       "    <tr>\n",
       "      <th>4</th>\n",
       "      <td>20</td>\n",
       "      <td>4.851652e+08</td>\n",
       "      <td>4.851652e+08</td>\n",
       "      <td>4.851652e+08</td>\n",
       "      <td>2.059021e+01</td>\n",
       "      <td>1.788139e-07</td>\n",
       "    </tr>\n",
       "    <tr>\n",
       "      <th>5</th>\n",
       "      <td>25</td>\n",
       "      <td>7.200487e+10</td>\n",
       "      <td>7.200490e+10</td>\n",
       "      <td>7.200490e+10</td>\n",
       "      <td>2.919339e+04</td>\n",
       "      <td>3.051758e-05</td>\n",
       "    </tr>\n",
       "    <tr>\n",
       "      <th>6</th>\n",
       "      <td>-1</td>\n",
       "      <td>3.678794e-01</td>\n",
       "      <td>3.678794e-01</td>\n",
       "      <td>3.678794e-01</td>\n",
       "      <td>5.045489e-08</td>\n",
       "      <td>1.110223e-16</td>\n",
       "    </tr>\n",
       "    <tr>\n",
       "      <th>7</th>\n",
       "      <td>-5</td>\n",
       "      <td>6.737142e-03</td>\n",
       "      <td>6.737947e-03</td>\n",
       "      <td>6.737947e-03</td>\n",
       "      <td>8.051291e-07</td>\n",
       "      <td>8.291978e-16</td>\n",
       "    </tr>\n",
       "    <tr>\n",
       "      <th>8</th>\n",
       "      <td>-10</td>\n",
       "      <td>-5.234228e-05</td>\n",
       "      <td>4.539993e-05</td>\n",
       "      <td>4.539993e-05</td>\n",
       "      <td>9.774221e-05</td>\n",
       "      <td>9.208464e-14</td>\n",
       "    </tr>\n",
       "    <tr>\n",
       "      <th>9</th>\n",
       "      <td>-15</td>\n",
       "      <td>-2.238686e-02</td>\n",
       "      <td>3.059100e-07</td>\n",
       "      <td>3.059023e-07</td>\n",
       "      <td>2.238716e-02</td>\n",
       "      <td>7.682080e-12</td>\n",
       "    </tr>\n",
       "    <tr>\n",
       "      <th>10</th>\n",
       "      <td>-20</td>\n",
       "      <td>-1.797034e+00</td>\n",
       "      <td>6.147562e-09</td>\n",
       "      <td>2.061154e-09</td>\n",
       "      <td>1.797034e+00</td>\n",
       "      <td>4.086408e-09</td>\n",
       "    </tr>\n",
       "    <tr>\n",
       "      <th>11</th>\n",
       "      <td>-25</td>\n",
       "      <td>-7.376640e+02</td>\n",
       "      <td>8.181279e-07</td>\n",
       "      <td>1.388794e-11</td>\n",
       "      <td>7.376640e+02</td>\n",
       "      <td>8.181140e-07</td>\n",
       "    </tr>\n",
       "  </tbody>\n",
       "</table>\n",
       "</div>"
      ],
      "text/plain": [
       "     x       SUM_32b       SUM_64b           EXP      DELTA_32      DELTA_64\n",
       "0    1  2.718282e+00  2.718282e+00  2.718282e+00  1.558702e-07  4.440892e-16\n",
       "1    5  1.484132e+02  1.484132e+02  1.484132e+02  3.128869e-06  0.000000e+00\n",
       "2   10  2.202646e+04  2.202647e+04  2.202647e+04  9.510567e-04  3.637979e-12\n",
       "3   15  3.269017e+06  3.269017e+06  3.269017e+06  3.724721e-01  0.000000e+00\n",
       "4   20  4.851652e+08  4.851652e+08  4.851652e+08  2.059021e+01  1.788139e-07\n",
       "5   25  7.200487e+10  7.200490e+10  7.200490e+10  2.919339e+04  3.051758e-05\n",
       "6   -1  3.678794e-01  3.678794e-01  3.678794e-01  5.045489e-08  1.110223e-16\n",
       "7   -5  6.737142e-03  6.737947e-03  6.737947e-03  8.051291e-07  8.291978e-16\n",
       "8  -10 -5.234228e-05  4.539993e-05  4.539993e-05  9.774221e-05  9.208464e-14\n",
       "9  -15 -2.238686e-02  3.059100e-07  3.059023e-07  2.238716e-02  7.682080e-12\n",
       "10 -20 -1.797034e+00  6.147562e-09  2.061154e-09  1.797034e+00  4.086408e-09\n",
       "11 -25 -7.376640e+02  8.181279e-07  1.388794e-11  7.376640e+02  8.181140e-07"
      ]
     },
     "execution_count": 7,
     "metadata": {},
     "output_type": "execute_result"
    }
   ],
   "source": [
    "data = list()\n",
    "for x in [1, 5, 10, 15, 20, 25, -1, -5, -10, -15, -20, -25]:\n",
    "    data.append([x, SUM(x, np.float32), SUM(x, np.float64), np.float64(mt.exp(x))])\n",
    "df = pd.DataFrame(data = data, columns = ['x', 'SUM_32b', 'SUM_64b', 'EXP'])\n",
    "# DELTA - абсолютная погрешность для разных архитектур мантиссы\n",
    "df['DELTA_32'] = (df['SUM_32b'] - df['EXP']).apply(abs)\n",
    "df['DELTA_64'] = (df['SUM_64b'] - df['EXP']).apply(abs)\n",
    "df"
   ]
  },
  {
   "cell_type": "markdown",
   "metadata": {},
   "source": [
    "### Модифицированный метод суммирования ряда Тейлора"
   ]
  },
  {
   "cell_type": "markdown",
   "metadata": {},
   "source": [
    "Избавимся от проблемы вычитания близких по значению элементов ряда Тейлора при $x<0$. Для отрицательных $х$ будем считать $e^{-x}$, а затем вычислим $e^{x}$ как $1\\,/e^{-x}$:\n",
    "\n",
    "\\begin{equation*}\n",
    "e^x = \n",
    " \\begin{cases}\n",
    "   \\sum \\limits_{k=1}^{\\infty} \\frac{x^k}{k!}, &\\text{если $x \\ge 0$}\\\\\n",
    "   1\\,/e^{-x} = 1 \\,/\\sum \\limits_{k=1}^{\\infty} \\frac{(-x)^k}{k!}, &\\text{если $x<0$}\n",
    " \\end{cases}\n",
    "\\end{equation*}"
   ]
  },
  {
   "cell_type": "code",
   "execution_count": null,
   "metadata": {},
   "outputs": [],
   "source": [
    "# modified EXP\n",
    "def modified_SUM(x, flt):\n",
    "    if x >= 0:\n",
    "        return SUM(x, flt)\n",
    "    else:\n",
    "        return flt(1.0/SUM(-x, flt))"
   ]
  },
  {
   "cell_type": "code",
   "execution_count": null,
   "metadata": {},
   "outputs": [],
   "source": [
    "data = list()\n",
    "for x in range(-25, 26):\n",
    "    data.append([x, modified_SUM(x, np.float32), modified_SUM(x, np.float64), modified_SUM(x, np.float128), np.float128(mt.exp(x))])\n",
    "df = pd.DataFrame(data = data, columns = ['x', 'SUM_32b', 'SUM_64b', 'SUM_128b', 'EXP'])\n",
    "# DELTA - абсолютная погрешность\n",
    "df['DELTA_32'] = (df['SUM_32b'] - df['EXP']).apply(abs)\n",
    "df['DELTA_64'] = (df['SUM_64b'] - df['EXP']).apply(abs)\n",
    "df['DELTA_128'] = (df['SUM_128b'] - df['EXP']).apply(abs)\n",
    "# RELER - относительная погрешность\n",
    "df['RELER_32'] = (df['DELTA_32']/df['EXP']).apply(abs)\n",
    "df['RELER_64'] = (df['DELTA_64']/df['EXP']).apply(abs)\n",
    "df['RELER_128'] = (df['DELTA_128']/df['EXP']).apply(abs)\n",
    "df[df['x'] % 5 == 0]"
   ]
  },
  {
   "cell_type": "markdown",
   "metadata": {},
   "source": [
    "### Графическое представление результатов"
   ]
  },
  {
   "cell_type": "code",
   "execution_count": 137,
   "metadata": {
    "collapsed": true
   },
   "outputs": [],
   "source": [
    "import matplotlib\n",
    "import matplotlib.pyplot as plt\n",
    "import matplotlib.ticker\n",
    "\n",
    "%matplotlib inline"
   ]
  },
  {
   "cell_type": "code",
   "execution_count": 138,
   "metadata": {
    "collapsed": true
   },
   "outputs": [],
   "source": [
    "# функция сглаживания графиков при ln(delta) = 0\n",
    "def smooth_infty(ys):\n",
    "    smth_ys = ys[:]\n",
    "    for i in range(len(ys)):\n",
    "        if ys[i] < -1e+10:\n",
    "            up = min(filter(lambda x: x>-1e+10, ys[i:]))\n",
    "            low = max(ys[:i])\n",
    "            smth_ys[i] = (i - ys.index(low))/(ys.index(up) - ys.index(low)) * (up - low) + low\n",
    "    return smth_ys"
   ]
  },
  {
   "cell_type": "code",
   "execution_count": 149,
   "metadata": {
    "scrolled": true
   },
   "outputs": [
    {
     "data": {
      "image/png": "[encoded data removed]",
      "text/plain": [
       "<matplotlib.figure.Figure at 0x10f10b780>"
      ]
     },
     "metadata": {},
     "output_type": "display_data"
    }
   ],
   "source": [
    "plt.figure(figsize=(14,12))\n",
    "xs = df['x'].values\n",
    "\n",
    "ax1 = plt.subplot(311)\n",
    "sort = sorted(zip(df['DELTA_32'].apply(np.log).values, xs), key=lambda x: x[1])\n",
    "xs = [x[1] for x in sort]\n",
    "ys = [x[0] for x in sort]\n",
    "plt.plot(xs, ys, c='b', lw=1, label='32 bit');\n",
    "plt.legend()\n",
    "plt.title('Графики зависимости $ln(\\Delta) = f(x)$', fontsize=15)\n",
    "plt.xlabel('$x$', fontsize=12)\n",
    "plt.ylabel('$ln(\\Delta)$', fontsize=12)\n",
    "plt.plot(xs, smooth_infty(ys), 'k--', c='b', lw=0.75);\n",
    "\n",
    "ax1 = plt.subplot(312)\n",
    "sort = sorted(zip(df['DELTA_64'].apply(np.log).values, xs), key=lambda x: x[1])\n",
    "xs = [x[1] for x in sort]\n",
    "ys = [x[0] for x in sort]\n",
    "plt.plot(xs, ys, c='r', lw=1, label='64 bit');\n",
    "plt.legend()\n",
    "plt.xlabel('$x$', fontsize=12)\n",
    "plt.ylabel('$ln(\\Delta)$', fontsize=12)\n",
    "plt.plot(xs, smooth_infty(ys), 'k--', c='r', lw=0.75);"
   ]
  },
  {
   "cell_type": "markdown",
   "metadata": {},
   "source": [
    "Исходя из очевидного тренда линейности данных графиков, можно отметить, что абсолютная ошибка растет экспоненциально аналогично самой функции, выбросы практически отсутствуют или несущественны. Реализованный метод стабилен для элементов отрезка $[-25, 25]$."
   ]
  },
  {
   "cell_type": "markdown",
   "metadata": {},
   "source": [
    "### Выводы:\n",
    "1. Исходный метод суммирования дает приемлемый результат при $x>0$ и не применим в случаях $x<0$, так как имеет место проблема сложения сравнимых по величине и отличных по знаку чисел, что приводит к существенному росту погрешности; \n",
    "2. Модернизированный метод решает данную проблему путем вычисления суммы положительного ряда и последующего его обращения: $$e^{-x} = \\frac{1}{e^x} = \\frac{1}{\\sum \\limits_{i=0}^{\\infty}\\frac{x^k}{k!}}, \\, x>0$$\n",
    "3. Модернизированный метод применялся для разных архитектур мантиссы: 32, 64, 128 бит. Отмечено, что реализованный модернизированный метод в случае 128-битного представления эквивалентен встроенному методу вычисления экспоненты; "
   ]
  }
 ],
 "metadata": {
  "kernelspec": {
   "display_name": "Python 3",
   "language": "python",
   "name": "python3"
  },
  "language_info": {
   "codemirror_mode": {
    "name": "ipython",
    "version": 3
   },
   "file_extension": ".py",
   "mimetype": "text/x-python",
   "name": "python",
   "nbconvert_exporter": "python",
   "pygments_lexer": "ipython3",
   "version": "3.6.4"
  }
 },
 "nbformat": 4,
 "nbformat_minor": 2
}
