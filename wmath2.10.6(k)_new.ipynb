{
 "cells": [
  {
   "cell_type": "code",
   "execution_count": 2,
   "metadata": {},
   "outputs": [],
   "source": [
    "import numpy as np\n",
    "import pandas as pd"
   ]
  },
  {
   "cell_type": "code",
   "execution_count": 127,
   "metadata": {},
   "outputs": [],
   "source": [
    "#ввод данных\n",
    "n = 10\n",
    "Af = np.matrix([[1 if i == j else 1.0/(i+j+2) for j in range(n)] + [1/(i+1)] for i in range(n)])\n",
    "A = np.matrix([[1 if i == j else 1.0/(i+j+2) for j in range(n)] for i in range(n)])\n",
    "f = np.matrix([[1.0/(i+1)] for i in range(n)])"
   ]
  },
  {
   "cell_type": "code",
   "execution_count": 128,
   "metadata": {},
   "outputs": [],
   "source": [
    "D = np.matrix(np.diag(np.diag(A)))\n",
    "L = np.matrix(np.tril(A, k = -1))\n",
    "U = np.matrix(np.triu(A, k = 1))\n",
    "B = -np.matrix(np.linalg.inv(L + D))*U"
   ]
  },
  {
   "cell_type": "code",
   "execution_count": 148,
   "metadata": {},
   "outputs": [
    {
     "data": {
      "text/plain": [
       "[[0.9190771092669207],\n",
       " [0.17554017049308798],\n",
       " [0.06393482401444071],\n",
       " [0.02727476396084552],\n",
       " [0.01142346853555455],\n",
       " [0.0035108392787171153],\n",
       " [-0.000789957813855531],\n",
       " [-0.003250801449485298],\n",
       " [-0.004697877810511589],\n",
       " [-0.005553739941265922]]"
      ]
     },
     "execution_count": 148,
     "metadata": {},
     "output_type": "execute_result"
    }
   ],
   "source": [
    "# вычисление истинного решения\n",
    "x_ = np.linalg.solve(A,f)\n",
    "x_.tolist()"
   ]
  },
  {
   "cell_type": "code",
   "execution_count": 130,
   "metadata": {},
   "outputs": [],
   "source": [
    "x_sol = np.transpose(x_).tolist()[0]"
   ]
  },
  {
   "cell_type": "code",
   "execution_count": 123,
   "metadata": {},
   "outputs": [
    {
     "data": {
      "text/plain": [
       "[0.9190771092669207,\n",
       " 0.17554017049308798,\n",
       " 0.06393482401444071,\n",
       " 0.02727476396084552,\n",
       " 0.01142346853555455,\n",
       " 0.0035108392787171153,\n",
       " -0.000789957813855531,\n",
       " -0.003250801449485298,\n",
       " -0.004697877810511589,\n",
       " -0.005553739941265922]"
      ]
     },
     "execution_count": 123,
     "metadata": {},
     "output_type": "execute_result"
    }
   ],
   "source": [
    "x_sol"
   ]
  },
  {
   "cell_type": "code",
   "execution_count": 131,
   "metadata": {},
   "outputs": [],
   "source": [
    "def normMatr(A):    \n",
    "    for x in A.tolist():\n",
    "        for x_i in x:\n",
    "            pass\n",
    "    return max([np.sum([abs(x_i) for x_i in x]) for x in A.transpose().tolist()])"
   ]
  },
  {
   "cell_type": "code",
   "execution_count": 102,
   "metadata": {},
   "outputs": [
    {
     "data": {
      "text/plain": [
       "0.6566095994581773"
      ]
     },
     "execution_count": 102,
     "metadata": {},
     "output_type": "execute_result"
    }
   ],
   "source": [
    "res = normMatr(B)\n",
    "res"
   ]
  },
  {
   "cell_type": "code",
   "execution_count": 132,
   "metadata": {},
   "outputs": [],
   "source": [
    "def normVect(x1, x2):\n",
    "    x = [x1[i] - x2[i] for i in range(n)]\n",
    "    return np.sum([abs(x_i) for x_i in x])"
   ]
  },
  {
   "cell_type": "markdown",
   "metadata": {},
   "source": [
    "# Метод Гаусса"
   ]
  },
  {
   "cell_type": "code",
   "execution_count": 4,
   "metadata": {},
   "outputs": [],
   "source": [
    "def gauss(A):\n",
    "    A = A.tolist()\n",
    "    n = len(A)\n",
    "\n",
    "    for i in range(0, n):\n",
    "        # Ищем максимум в каждом столбце\n",
    "        maxEl = abs(A[i][i])\n",
    "        maxRow = i\n",
    "        for k in range(i+1, n):\n",
    "            if abs(A[k][i]) > maxEl:\n",
    "                maxEl = abs(A[k][i])\n",
    "                maxRow = k\n",
    "\n",
    "        # Меняем строку с максимумом с текущей строкой\n",
    "        for k in range(i, n+1):\n",
    "            tmp = A[maxRow][k]\n",
    "            A[maxRow][k] = A[i][k]\n",
    "            A[i][k] = tmp\n",
    "\n",
    "        # Обнуляем все эдементы текущего столбца ниже этой строки\n",
    "        for k in range(i+1, n):\n",
    "            c = -A[k][i]/A[i][i]\n",
    "            for j in range(i, n+1):\n",
    "                if i == j:\n",
    "                    A[k][j] = 0\n",
    "                else:\n",
    "                    A[k][j] += c * A[i][j]\n",
    "    \n",
    "    return solve_equat(A, n)\n",
    "\n",
    "#Поиск решения \n",
    "def solve_equat(A,n):\n",
    "    x = [0 for i in range(n)]\n",
    "    for i in range(n-1, -1, -1):\n",
    "        x[i] = A[i][n]/A[i][i]\n",
    "        for k in range(i-1, -1, -1):\n",
    "            A[k][n] -= A[k][i] * x[i]\n",
    "    return x"
   ]
  },
  {
   "cell_type": "markdown",
   "metadata": {},
   "source": [
    "# Метод Зейделя"
   ]
  },
  {
   "cell_type": "code",
   "execution_count": 429,
   "metadata": {},
   "outputs": [],
   "source": [
    "def seidel(Af, B):\n",
    "    n  = len(Af)\n",
    "    c = 0\n",
    "    for i in range(n):\n",
    "        x0[i] = x_sol[i]\n",
    "    x1 = [0] * n\n",
    "    for i in range(n):\n",
    "        s = np.sum([-Af[i].tolist()[0][j] * x0[j] for j in range(n) if i != j]) \n",
    "        x1[i] = (Af[i].tolist()[0][n] + s) / Af[i].tolist()[0][i]\n",
    "    xk = x0[:]\n",
    "    while (normVect(x_sol,xk) > ((normMatr(B))**i)*normVect(x1,x0)/(1 - normMatr(B))):\n",
    "        c += 1\n",
    "        for i in range(n):\n",
    "            s = np.sum([-Af[i].tolist()[0][j] * xk[j] for j in range(n) if i != j]) \n",
    "            xk[i] = (Af[i].tolist()[0][n] + s) / Af[i].tolist()[0][i]\n",
    "    print(c)\n",
    "    return xk\n",
    "    raise ValueError('Решение не сходится')"
   ]
  },
  {
   "cell_type": "code",
   "execution_count": 430,
   "metadata": {},
   "outputs": [
    {
     "name": "stdout",
     "output_type": "stream",
     "text": [
      "0\n"
     ]
    }
   ],
   "source": [
    "seid_x = seidel(Af, B)\n",
    "seid_xm = np.matrix([[seid_x[i]] for i in range(len(seid_x))])"
   ]
  },
  {
   "cell_type": "code",
   "execution_count": 431,
   "metadata": {},
   "outputs": [],
   "source": [
    "gaus_x = gauss(Af)\n",
    "gaus_xm = np.matrix([[gaus_x[i]] for i in range(len(gaus_x))])"
   ]
  },
  {
   "cell_type": "code",
   "execution_count": 432,
   "metadata": {},
   "outputs": [],
   "source": [
    "def f_error(A, gaus_xm, seid_xm, f):\n",
    "    fseid = A * seid_xm\n",
    "    fgaus = A * gaus_xm\n",
    "    df_seid = [abs(x[0]) for x in (f - fseid).tolist()]\n",
    "    df_gaus = [abs(x[0]) for x in (f - fgaus).tolist()]\n",
    "    data = [list(x) for x in list(zip(df_gaus, df_seid))]\n",
    "    return data"
   ]
  },
  {
   "cell_type": "code",
   "execution_count": 433,
   "metadata": {},
   "outputs": [],
   "source": [
    "output = f_error(A, gaus_xm, seid_xm, f)\n",
    "table = pd.DataFrame(columns=['Gauss method', 'Seiden method'], data=output)"
   ]
  },
  {
   "cell_type": "code",
   "execution_count": 434,
   "metadata": {},
   "outputs": [
    {
     "data": {
      "text/html": [
       "<div>\n",
       "<style scoped>\n",
       "    .dataframe tbody tr th:only-of-type {\n",
       "        vertical-align: middle;\n",
       "    }\n",
       "\n",
       "    .dataframe tbody tr th {\n",
       "        vertical-align: top;\n",
       "    }\n",
       "\n",
       "    .dataframe thead th {\n",
       "        text-align: right;\n",
       "    }\n",
       "</style>\n",
       "<table border=\"1\" class=\"dataframe\">\n",
       "  <thead>\n",
       "    <tr style=\"text-align: right;\">\n",
       "      <th></th>\n",
       "      <th>Gauss method</th>\n",
       "      <th>Seiden method</th>\n",
       "    </tr>\n",
       "  </thead>\n",
       "  <tbody>\n",
       "    <tr>\n",
       "      <th>0</th>\n",
       "      <td>2.220446e-16</td>\n",
       "      <td>2.220446e-16</td>\n",
       "    </tr>\n",
       "    <tr>\n",
       "      <th>1</th>\n",
       "      <td>0.000000e+00</td>\n",
       "      <td>0.000000e+00</td>\n",
       "    </tr>\n",
       "    <tr>\n",
       "      <th>2</th>\n",
       "      <td>0.000000e+00</td>\n",
       "      <td>0.000000e+00</td>\n",
       "    </tr>\n",
       "    <tr>\n",
       "      <th>3</th>\n",
       "      <td>0.000000e+00</td>\n",
       "      <td>0.000000e+00</td>\n",
       "    </tr>\n",
       "    <tr>\n",
       "      <th>4</th>\n",
       "      <td>2.775558e-17</td>\n",
       "      <td>2.775558e-17</td>\n",
       "    </tr>\n",
       "    <tr>\n",
       "      <th>5</th>\n",
       "      <td>2.775558e-17</td>\n",
       "      <td>0.000000e+00</td>\n",
       "    </tr>\n",
       "    <tr>\n",
       "      <th>6</th>\n",
       "      <td>0.000000e+00</td>\n",
       "      <td>0.000000e+00</td>\n",
       "    </tr>\n",
       "    <tr>\n",
       "      <th>7</th>\n",
       "      <td>2.775558e-17</td>\n",
       "      <td>2.775558e-17</td>\n",
       "    </tr>\n",
       "    <tr>\n",
       "      <th>8</th>\n",
       "      <td>0.000000e+00</td>\n",
       "      <td>0.000000e+00</td>\n",
       "    </tr>\n",
       "    <tr>\n",
       "      <th>9</th>\n",
       "      <td>2.775558e-17</td>\n",
       "      <td>2.775558e-17</td>\n",
       "    </tr>\n",
       "  </tbody>\n",
       "</table>\n",
       "</div>"
      ],
      "text/plain": [
       "   Gauss method  Seiden method\n",
       "0  2.220446e-16   2.220446e-16\n",
       "1  0.000000e+00   0.000000e+00\n",
       "2  0.000000e+00   0.000000e+00\n",
       "3  0.000000e+00   0.000000e+00\n",
       "4  2.775558e-17   2.775558e-17\n",
       "5  2.775558e-17   0.000000e+00\n",
       "6  0.000000e+00   0.000000e+00\n",
       "7  2.775558e-17   2.775558e-17\n",
       "8  0.000000e+00   0.000000e+00\n",
       "9  2.775558e-17   2.775558e-17"
      ]
     },
     "execution_count": 434,
     "metadata": {},
     "output_type": "execute_result"
    }
   ],
   "source": [
    "table"
   ]
  },
  {
   "cell_type": "code",
   "execution_count": null,
   "metadata": {},
   "outputs": [],
   "source": []
  },
  {
   "cell_type": "code",
   "execution_count": null,
   "metadata": {},
   "outputs": [],
   "source": []
  }
 ],
 "metadata": {
  "kernelspec": {
   "display_name": "Python 3",
   "language": "python",
   "name": "python3"
  },
  "language_info": {
   "codemirror_mode": {
    "name": "ipython",
    "version": 3
   },
   "file_extension": ".py",
   "mimetype": "text/x-python",
   "name": "python",
   "nbconvert_exporter": "python",
   "pygments_lexer": "ipython3",
   "version": "3.6.4"
  }
 },
 "nbformat": 4,
 "nbformat_minor": 2
}
